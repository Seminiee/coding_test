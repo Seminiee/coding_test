{
 "cells": [
  {
   "cell_type": "markdown",
   "metadata": {},
   "source": [
    "## Programmers\n",
    "***\n",
    "### 연습문제 - [점찍기](https://school.programmers.co.kr/learn/courses/30/lessons/140107)"
   ]
  },
  {
   "cell_type": "markdown",
   "metadata": {},
   "source": [
    "#### - **문제 설명**\n",
    "\n",
    "좌표평면을 좋아하는 진수는 x축과 y축이 직교하는 2차원 좌표평면에 점을 찍으면서 놀고 있습니다. 진수는 두 양의 정수 `k`, `d`가 주어질 때 다음과 같이 점을 찍으려 합니다.\n",
    "원점(0, 0)으로부터 x축 방향으로 `a*k`(a = 0, 1, 2, 3 ...), y축 방향으로 `b*k`(b = 0, 1, 2, 3 ...)만큼 떨어진 위치에 점을 찍습니다.\n",
    "원점과 거리가 `d`를 넘는 위치에는 점을 찍지 않습니다.\n",
    "예를 들어, `k`가 2, `d`가 4인 경우에는 (0, 0), (0, 2), (0, 4), (2, 0), (2, 2), (4, 0) 위치에 점을 찍어 총 6개의 점을 찍습니다.\n",
    "정수 `k`와 원점과의 거리를 나타내는 정수 `d`가 주어졌을 때, 점이 총 몇 개 찍히는지 return 하는 solution 함수를 완성하세요.\n",
    "\n",
    "#### - **제한 사항**\n",
    "- 1 ≤ `k` ≤ 1,000,000\n",
    "- 1 ≤ `d` ≤ 1,000,000"
   ]
  },
  {
   "cell_type": "markdown",
   "metadata": {},
   "source": [
    "`k` = 1, `d` = 5\n",
    "\n",
    "(0, 0), (0, 1), (0, 2), (0, 3), (0, 4), (0, 5),     \n",
    "(1, 0), (1, 1), (1, 2), (1, 3), (1, 4),      \n",
    "(2, 0), (2, 1), (2, 2), (2, 3), (2, 4),      \n",
    "(3, 0), (3, 1), (3, 2), (3, 3), (3, 4),     \n",
    "(4, 0), (4, 1), (4, 2), (4, 3),      \n",
    "(5, 0)      \n",
    "위치에 점을 찍을 수 있으며, 총 26개 입니다."
   ]
  },
  {
   "cell_type": "code",
   "execution_count": 17,
   "metadata": {},
   "outputs": [],
   "source": [
    "from math import sqrt\n",
    "\n",
    "def solution(k,d):\n",
    "    if k > d:\n",
    "        return 1\n",
    "    elif k == d:\n",
    "        return 3\n",
    "    max_same_coor = int(sqrt(2) * d / 2)\n",
    "    max_a = d // k\n",
    "    \n",
    "    a_diagonal = max_same_coor // k\n",
    "    x_list = [k * x for x in range(a_diagonal + 1, max_a + 1 )]\n",
    "    y_list = [k * y for y in range(0, a_diagonal)]\n",
    "    count = (a_diagonal+1) * (a_diagonal + 2) // 2  #- (a_diagonal + 1)\n",
    "    y = y_list.pop()\n",
    "    for x in x_list:\n",
    "        if d < sqrt(x**2+y**2):\n",
    "            y = y_list.pop()\n",
    "        count += (y+1)\n",
    "    count *= 2\n",
    "    count -= (a_diagonal + 1)\n",
    "    return count"
   ]
  },
  {
   "cell_type": "code",
   "execution_count": 18,
   "metadata": {},
   "outputs": [
    {
     "data": {
      "text/plain": [
       "26"
      ]
     },
     "execution_count": 18,
     "metadata": {},
     "output_type": "execute_result"
    }
   ],
   "source": [
    "test = solution(1,5)\n",
    "test"
   ]
  },
  {
   "cell_type": "code",
   "execution_count": 22,
   "metadata": {},
   "outputs": [],
   "source": [
    "from itertools import combinations\n",
    "\n",
    "def solution(k,d):\n",
    "    if k > d:\n",
    "        return 1\n",
    "    elif k == d:\n",
    "        return 3\n",
    "    answer = 0\n",
    "    t1 = d // k\n",
    "    d_sqr = d**2\n",
    "    d_sqrt = 1\n",
    "\n",
    "    while(True):\n",
    "        if 2 * (d_sqrt**2) > d_sqr:\n",
    "            #print('d_sqrt ', d_sqrt)\n",
    "            d_sqrt -= 1\n",
    "            break\n",
    "        else:\n",
    "            d_sqrt += 1\n",
    "    t2 = d_sqrt // k\n",
    "\n",
    "    answer = (t2+1) * (t2+2)\n",
    "    answer -= (t2+1)\n",
    "\n",
    "    numbers = [k*i for i in range(t2+1,t1+1)]\n",
    "    coordinates = list(combinations(numbers, 2))\n",
    "    \n",
    "    count = 0\n",
    "    for x,y in coordinates:\n",
    "        if (x**2 + y**2) <= d_sqr:\n",
    "            count+=1\n",
    "    count *= 2\n",
    "    answer += count\n",
    "    \n",
    "    return count"
   ]
  },
  {
   "cell_type": "code",
   "execution_count": 21,
   "metadata": {},
   "outputs": [
    {
     "data": {
      "text/plain": [
       "0"
      ]
     },
     "execution_count": 21,
     "metadata": {},
     "output_type": "execute_result"
    }
   ],
   "source": [
    "test = solution(2,4)\n",
    "test"
   ]
  },
  {
   "cell_type": "code",
   "execution_count": 14,
   "metadata": {},
   "outputs": [
    {
     "data": {
      "text/plain": [
       "[(0, 0), (1, 1), (2, 2), (3, 3), (4, 4)]"
      ]
     },
     "execution_count": 14,
     "metadata": {},
     "output_type": "execute_result"
    }
   ],
   "source": [
    "test_coor = solution(1,5)\n",
    "test_coor"
   ]
  },
  {
   "cell_type": "code",
   "execution_count": 110,
   "metadata": {},
   "outputs": [],
   "source": [
    "# 75 / 100\n",
    "\n",
    "def solution(k,d):\n",
    "    if k > d:\n",
    "        return 1\n",
    "    elif k == d:\n",
    "        return 3\n",
    "    q = 0\n",
    "    t1 = d // k\n",
    "    #print('t1: ', t1)\n",
    "    d_sqrt = 1\n",
    "    d_sqr = d**2\n",
    "    #print('d_sqr: ', d_sqr)\n",
    "    while(True):\n",
    "        if 2 * (d_sqrt**2) > d_sqr:\n",
    "            #print('d_sqrt ', d_sqrt)\n",
    "            d_sqrt -= 1\n",
    "            break\n",
    "        else:\n",
    "            d_sqrt += 1\n",
    "    #print('d_sqrt: ', d_sqrt)\n",
    "    t2 = d_sqrt // k\n",
    "    p = (t2 + 1) * (t2 + 2)\n",
    "    #print('p: ',p)\n",
    "    for i in range(t2+1, t1+1):\n",
    "        x = i * k\n",
    "        for j in range(0,t2+1):\n",
    "            y = j * k\n",
    "            #print('(',x,',',y,')')\n",
    "            if (x**2 + y**2) <= d_sqr:\n",
    "                q += 1\n",
    "    #print('q: ', q)\n",
    "    answer = p - (t2+1) + q*2\n",
    "    return answer"
   ]
  },
  {
   "cell_type": "code",
   "execution_count": null,
   "metadata": {},
   "outputs": [],
   "source": [
    "# 진행중\n",
    "\n",
    "def solution(k,d):\n",
    "    if k > d:\n",
    "        return 1\n",
    "    elif k == d:\n",
    "        return 3\n",
    "    q = 0\n",
    "    t1 = d // k\n",
    "    #print('t1: ', t1)\n",
    "    d_sqrt = 1\n",
    "    d_sqr = d**2\n",
    "    #print('d_sqr: ', d_sqr)\n",
    "    while(True):\n",
    "        if 2 * (d_sqrt**2) > d_sqr:\n",
    "            #print('d_sqrt ', d_sqrt)\n",
    "            d_sqrt -= 1\n",
    "            break\n",
    "        else:\n",
    "            d_sqrt += 1\n",
    "    #print('d_sqrt: ', d_sqrt)\n",
    "    t2 = d_sqrt // k\n",
    "    p = (t2 + 1) * (t2 + 2)\n",
    "    #print('p: ',p)\n",
    "    for i in range(t2+1, t1+1):\n",
    "        x = i * k\n",
    "        for j in range(0,t2+1):\n",
    "            y = j * k\n",
    "            #print('(',x,',',y,')')\n",
    "            if (x**2 + y**2) <= d_sqr:\n",
    "                q += 1\n",
    "    #print('q: ', q)\n",
    "    answer = p - (t2+1) + q*2\n",
    "    return answer"
   ]
  },
  {
   "cell_type": "code",
   "execution_count": 111,
   "metadata": {},
   "outputs": [
    {
     "data": {
      "text/plain": [
       "6"
      ]
     },
     "execution_count": 111,
     "metadata": {},
     "output_type": "execute_result"
    }
   ],
   "source": [
    "test1 = solution(2,4)\n",
    "test1"
   ]
  },
  {
   "cell_type": "code",
   "execution_count": 70,
   "metadata": {},
   "outputs": [
    {
     "data": {
      "text/plain": [
       "6"
      ]
     },
     "execution_count": 70,
     "metadata": {},
     "output_type": "execute_result"
    }
   ],
   "source": [
    "test1"
   ]
  },
  {
   "cell_type": "code",
   "execution_count": 114,
   "metadata": {},
   "outputs": [
    {
     "data": {
      "text/plain": [
       "14.142135623730951"
      ]
     },
     "execution_count": 114,
     "metadata": {},
     "output_type": "execute_result"
    }
   ],
   "source": [
    "10 * math.sqrt(2)"
   ]
  },
  {
   "cell_type": "code",
   "execution_count": 112,
   "metadata": {},
   "outputs": [],
   "source": [
    "test2 = solution(1,5)"
   ]
  },
  {
   "cell_type": "code",
   "execution_count": 113,
   "metadata": {},
   "outputs": [
    {
     "data": {
      "text/plain": [
       "26"
      ]
     },
     "execution_count": 113,
     "metadata": {},
     "output_type": "execute_result"
    }
   ],
   "source": [
    "test2"
   ]
  },
  {
   "cell_type": "code",
   "execution_count": 24,
   "metadata": {},
   "outputs": [],
   "source": [
    "#시간 초과 케이스 8/16\n",
    "def solution(k,d):\n",
    "    if k > d:\n",
    "        return 1\n",
    "    elif k == d:\n",
    "        return 3\n",
    "    count = 0\n",
    "\n",
    "    i = 0\n",
    "    while(True):\n",
    "        j = 0\n",
    "        x = i * k\n",
    "        if x > d :\n",
    "            break\n",
    "        while(True):\n",
    "            y = j * k\n",
    "            if y > d:\n",
    "                break\n",
    "            if (x**2 + y**2) <= d**2:\n",
    "                #print('(',x,',',y,') is correct coordinate')\n",
    "                count += 1\n",
    "            else:\n",
    "                break\n",
    "            j += 1\n",
    "        i += 1\n",
    "    return count\n"
   ]
  },
  {
   "cell_type": "code",
   "execution_count": 36,
   "metadata": {},
   "outputs": [],
   "source": [
    "test1 = solution(2,4)\n"
   ]
  },
  {
   "cell_type": "code",
   "execution_count": 37,
   "metadata": {},
   "outputs": [
    {
     "data": {
      "text/plain": [
       "5"
      ]
     },
     "execution_count": 37,
     "metadata": {},
     "output_type": "execute_result"
    }
   ],
   "source": [
    "test1"
   ]
  },
  {
   "cell_type": "code",
   "execution_count": 27,
   "metadata": {},
   "outputs": [
    {
     "name": "stdout",
     "output_type": "stream",
     "text": [
      "( 0 , 0 ) is correct coordinate\n",
      "( 0 , 1 ) is correct coordinate\n",
      "( 0 , 2 ) is correct coordinate\n",
      "( 0 , 3 ) is correct coordinate\n",
      "( 0 , 4 ) is correct coordinate\n",
      "( 0 , 5 ) is correct coordinate\n",
      "( 1 , 0 ) is correct coordinate\n",
      "( 1 , 1 ) is correct coordinate\n",
      "( 1 , 2 ) is correct coordinate\n",
      "( 1 , 3 ) is correct coordinate\n",
      "( 1 , 4 ) is correct coordinate\n",
      "( 2 , 0 ) is correct coordinate\n",
      "( 2 , 1 ) is correct coordinate\n",
      "( 2 , 2 ) is correct coordinate\n",
      "( 2 , 3 ) is correct coordinate\n",
      "( 2 , 4 ) is correct coordinate\n",
      "( 3 , 0 ) is correct coordinate\n",
      "( 3 , 1 ) is correct coordinate\n",
      "( 3 , 2 ) is correct coordinate\n",
      "( 3 , 3 ) is correct coordinate\n",
      "( 3 , 4 ) is correct coordinate\n",
      "( 4 , 0 ) is correct coordinate\n",
      "( 4 , 1 ) is correct coordinate\n",
      "( 4 , 2 ) is correct coordinate\n",
      "( 4 , 3 ) is correct coordinate\n",
      "( 5 , 0 ) is correct coordinate\n"
     ]
    }
   ],
   "source": [
    "test2 = solution(1,5)"
   ]
  },
  {
   "cell_type": "code",
   "execution_count": 28,
   "metadata": {},
   "outputs": [
    {
     "data": {
      "text/plain": [
       "26"
      ]
     },
     "execution_count": 28,
     "metadata": {},
     "output_type": "execute_result"
    }
   ],
   "source": [
    "test2"
   ]
  }
 ],
 "metadata": {
  "kernelspec": {
   "display_name": "dl",
   "language": "python",
   "name": "python3"
  },
  "language_info": {
   "codemirror_mode": {
    "name": "ipython",
    "version": 3
   },
   "file_extension": ".py",
   "mimetype": "text/x-python",
   "name": "python",
   "nbconvert_exporter": "python",
   "pygments_lexer": "ipython3",
   "version": "3.9.18"
  }
 },
 "nbformat": 4,
 "nbformat_minor": 2
}
