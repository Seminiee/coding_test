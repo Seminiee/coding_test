{
 "cells": [
  {
   "cell_type": "markdown",
   "metadata": {},
   "source": [
    "## Programmers\n",
    "***\n",
    "### 연습문제 - [요격 시스템](https://school.programmers.co.kr/learn/courses/30/lessons/181188)"
   ]
  },
  {
   "cell_type": "markdown",
   "metadata": {},
   "source": [
    "#### - **문제 설명**\n",
    "\n",
    " 나라가 B 나라를 침공하였습니다. B 나라의 대부분의 전략 자원은 아이기스 군사 기지에 집중되어 있기 때문에 A 나라는 B 나라의 아이기스 군사 기지에 융단폭격을 가했습니다.\n",
    "A 나라의 공격에 대항하여 아이기스 군사 기지에서는 무수히 쏟아지는 폭격 미사일들을 요격하려고 합니다. 이곳에는 백발백중을 자랑하는 요격 시스템이 있지만 운용 비용이 상당하기 때문에 미사일을 최소로 사용해서 모든 폭격 미사일을 요격하려 합니다.\n",
    "A 나라와 B 나라가 싸우고 있는 이 세계는 2 차원 공간으로 이루어져 있습니다. A 나라가 발사한 폭격 미사일은 x 축에 평행한 직선 형태의 모양이며 개구간을 나타내는 정수 쌍 (s, e) 형태로 표현됩니다. B 나라는 특정 x 좌표에서 y 축에 수평이 되도록 미사일을 발사하며, 발사된 미사일은 해당 x 좌표에 걸쳐있는 모든 폭격 미사일을 관통하여 한 번에 요격할 수 있습니다. 단, 개구간 (s, e)로 표현되는 폭격 미사일은 s와 e에서 발사하는 요격 미사일로는 요격할 수 없습니다. 요격 미사일은 실수인 x 좌표에서도 발사할 수 있습니다.\n",
    "각 폭격 미사일의 x 좌표 범위 목록 `targets`이 매개변수로 주어질 때, 모든 폭격 미사일을 요격하기 위해 필요한 요격 미사일 수의 최솟값을 return 하도록 solution 함수를 완성해 주세요.\n",
    "\n",
    "#### - **제한 사항**\n",
    "- 1 ≤ `targets`의 길이 ≤ 500,000\n",
    "- targets의 각 행은 `[s,e]` 형태입니다.\n",
    "    - 이는 한 폭격 미사일의 x 좌표 범위를 나타내며, 개구간 `(s, e)`에서 요격해야 합니다.\n",
    "    - 0 ≤ `s` < `e` ≤ 100,000,000"
   ]
  },
  {
   "cell_type": "code",
   "execution_count": 13,
   "metadata": {},
   "outputs": [],
   "source": [
    "from collections import deque\n",
    "\n",
    "def solution(targets):\n",
    "    answer = 0\n",
    "    targets.sort(key = lambda x: (x[0],x[1]))\n",
    "    if len(targets) == 1:\n",
    "        answer = 1\n",
    "        return answer\n",
    "    queue = deque(targets)\n",
    "    index = 0\n",
    "    length = len(targets)\n",
    "    cur_target = queue.popleft()\n",
    "    s = cur_target[0]\n",
    "    e = cur_target[1]\n",
    "    answer += 1\n",
    "    while(True):\n",
    "        if len(queue) == 0:\n",
    "            break\n",
    "        next_target = queue.popleft()\n",
    "        s_next = next_target[0]\n",
    "        e_next = next_target[1]\n",
    "        if e <= s_next:\n",
    "            s = s_next\n",
    "            e = e_next\n",
    "            answer += 1\n",
    "        if e > e_next:\n",
    "            e = e_next\n",
    "\n",
    "    return answer"
   ]
  },
  {
   "cell_type": "code",
   "execution_count": 14,
   "metadata": {},
   "outputs": [
    {
     "data": {
      "text/plain": [
       "3"
      ]
     },
     "execution_count": 14,
     "metadata": {},
     "output_type": "execute_result"
    }
   ],
   "source": [
    "t = [[4,5],[4,8],[10,14],[11,13],[5,12],[3,7],[1,4]]\n",
    "test = solution(t)\n",
    "test"
   ]
  },
  {
   "cell_type": "code",
   "execution_count": 12,
   "metadata": {},
   "outputs": [
    {
     "data": {
      "text/plain": [
       "[[1, 4], [3, 7], [4, 5], [4, 8], [5, 12], [10, 14], [11, 13]]"
      ]
     },
     "execution_count": 12,
     "metadata": {},
     "output_type": "execute_result"
    }
   ],
   "source": [
    "t.sort(key = lambda x: (x[0],x[1]))\n",
    "t"
   ]
  },
  {
   "cell_type": "code",
   "execution_count": null,
   "metadata": {},
   "outputs": [],
   "source": []
  }
 ],
 "metadata": {
  "kernelspec": {
   "display_name": "DL",
   "language": "python",
   "name": "python3"
  },
  "language_info": {
   "codemirror_mode": {
    "name": "ipython",
    "version": 3
   },
   "file_extension": ".py",
   "mimetype": "text/x-python",
   "name": "python",
   "nbconvert_exporter": "python",
   "pygments_lexer": "ipython3",
   "version": "3.10.11"
  }
 },
 "nbformat": 4,
 "nbformat_minor": 2
}
