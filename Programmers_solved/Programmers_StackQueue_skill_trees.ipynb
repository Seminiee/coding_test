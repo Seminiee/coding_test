{
 "cells": [
  {
   "cell_type": "markdown",
   "metadata": {},
   "source": [
    "## Programmars \n",
    "---\n",
    "### Summer/Winter Coding(2018) - [스킬트리](https://school.programmers.co.kr/learn/courses/30/lessons/49993)\n"
   ]
  },
  {
   "cell_type": "code",
   "execution_count": 9,
   "metadata": {},
   "outputs": [],
   "source": [
    "def solution(skill, skill_trees):\n",
    "    \n",
    "    possible = 0\n",
    "    skill_listed = list(skill)\n",
    "    for skill_tree in skill_trees:\n",
    "        is_possible = True\n",
    "        #print('skill tree: ', skill_tree)\n",
    "        check_list = list()\n",
    "        l = list(skill_tree)\n",
    "        l.reverse()\n",
    "        #print('l: ', l)\n",
    "        while(True):\n",
    "            if len(l) == 0:\n",
    "                break\n",
    "            alphabet = l.pop()\n",
    "            #print('alphabet: ', alphabet)\n",
    "            if alphabet in skill_listed: \n",
    "                #print(alphabet,' skill is a part of skill_tree')\n",
    "                check_list.append(alphabet)\n",
    "            else:\n",
    "                #print(alphabet,' skill is not a part of skill_tree')\n",
    "                continue\n",
    "        for i in range(len(check_list)):\n",
    "            #print('skill_listed[i]: ',skill_listed[i], ' check_list[i]: ', check_list[i])\n",
    "            if skill_listed[i] != check_list[i]:\n",
    "                is_possible = False\n",
    "                break\n",
    "        if is_possible:\n",
    "            possible+=1\n",
    "            \n",
    "    \n",
    "    #answer = -1\n",
    "    return possible"
   ]
  },
  {
   "cell_type": "code",
   "execution_count": 10,
   "metadata": {},
   "outputs": [
    {
     "data": {
      "text/plain": [
       "2"
      ]
     },
     "execution_count": 10,
     "metadata": {},
     "output_type": "execute_result"
    }
   ],
   "source": [
    "skill_test = \"CBD\" \n",
    "skill_trees_test = [\"BACDE\", \"CBADF\", \"AECB\", \"BDA\"]\n",
    "test = solution(skill_test, skill_trees_test)\n",
    "test"
   ]
  },
  {
   "cell_type": "markdown",
   "metadata": {},
   "source": [
    "- **스택** 으로 구현할 수 있는가?\n",
    "    - 문자열 순서 -> 스택(파이썬-리스트)로 구현할 수 있어야 한다\n",
    "    - reverse()와 reversed()의 차이점\n",
    "    - pop() 메소드는 진짜 마지막 값을 리스트에서 제거한다 -> 리스트의 길이에 신경 쓸 수 있어야 함"
   ]
  }
 ],
 "metadata": {
  "kernelspec": {
   "display_name": "DL",
   "language": "python",
   "name": "python3"
  },
  "language_info": {
   "codemirror_mode": {
    "name": "ipython",
    "version": 3
   },
   "file_extension": ".py",
   "mimetype": "text/x-python",
   "name": "python",
   "nbconvert_exporter": "python",
   "pygments_lexer": "ipython3",
   "version": "3.10.11"
  }
 },
 "nbformat": 4,
 "nbformat_minor": 2
}
