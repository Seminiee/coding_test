{
 "cells": [
  {
   "cell_type": "markdown",
   "metadata": {},
   "source": [
    "## Programmers\n",
    "***\n",
    "### 구현 - [괄호 회전하기](https://school.programmers.co.kr/learn/courses/30/lessons/76502?language=python3)"
   ]
  },
  {
   "cell_type": "markdown",
   "metadata": {},
   "source": [
    "#### 문제 설명\n",
    "\n",
    "다음 규칙을 지키는 문자열을 올바른 괄호 문자열이라고 정의합니다.\n",
    "`()`, `[]`, `{}` 는 모두 올바른 괄호 문자열입니다.\n",
    "만약 `A`가 올바른 괄호 문자열이라면, `(A)`, `[A]`, `{A}` 도 올바른 괄호 문자열입니다. 예를 들어, `[]` 가 올바른 괄호 문자열이므로, `([])` 도 올바른 괄호 문자열입니다.\n",
    "만약 `A`, `B`가 올바른 괄호 문자열이라면, `AB` 도 올바른 괄호 문자열입니다. 예를 들어, `{}` 와 `([])` 가 올바른 괄호 문자열이므로, `{}([])` 도 올바른 괄호 문자열입니다.\n",
    "대괄호, 중괄호, 그리고 소괄호로 이루어진 문자열 `s`가 매개변수로 주어집니다. 이 `s`를 왼쪽으로 x (0 ≤ x < (s의 길이)) 칸만큼 회전시켰을 때 `s`가 올바른 괄호 문자열이 되게 하는 x의 개수를 return 하도록 solution 함수를 완성해주세요.\n",
    "\n",
    "#### 제한사항\n",
    "`s`의 길이는 1 이상 1,000 이하입니다."
   ]
  },
  {
   "cell_type": "markdown",
   "metadata": {},
   "source": [
    "입력값 `s`: 괄호로 이루어진 문자열\n",
    "0부터 s의 길이-1 까지 회전 \n",
    "    올바른 문자열? answer+=1\n",
    "    그렇지않으면 continue ex\\) `[{]}` 올바른 문자열이 아님\n",
    "return answer"
   ]
  },
  {
   "cell_type": "code",
   "execution_count": 15,
   "metadata": {},
   "outputs": [],
   "source": [
    "def solution(s):\n",
    "    answer = 0\n",
    "    if len(s) == 1:\n",
    "        return 0\n",
    "    len_s = len(s)\n",
    "    open_parenthesis = ['(', '{', '[']\n",
    "    close_parenthesis = [')', '}', ']']\n",
    "    for x in range(len_s): # 문자열 s를 회전시킴\n",
    "        rotated = s[x:] + s[0:x]# 회전된 문자열\n",
    "        isValid = True\n",
    "        stack = []\n",
    "        for j in rotated:\n",
    "            if j in open_parenthesis:\n",
    "                stack.append(j)\n",
    "            else:\n",
    "                if not len(stack):\n",
    "                    isValid = False\n",
    "                    break\n",
    "                cursor = stack.pop()\n",
    "                if open_parenthesis.index(cursor) != close_parenthesis.index(j):\n",
    "                    isValid = False\n",
    "                    break\n",
    "        if len(stack):\n",
    "            isValid = False\n",
    "        if isValid:\n",
    "            answer += 1           \n",
    "\n",
    "    return answer"
   ]
  },
  {
   "cell_type": "code",
   "execution_count": 16,
   "metadata": {},
   "outputs": [
    {
     "name": "stdout",
     "output_type": "stream",
     "text": [
      "[](){} True\n",
      "](){}[ False\n",
      "(){}[] True\n",
      "){}[]( False\n",
      "{}[]() True\n",
      "}[](){ False\n",
      "3\n"
     ]
    }
   ],
   "source": [
    "# Test1\n",
    "s = \"[](){}\"\n",
    "print(solution(s))"
   ]
  },
  {
   "cell_type": "code",
   "execution_count": 12,
   "metadata": {},
   "outputs": [
    {
     "name": "stdout",
     "output_type": "stream",
     "text": [
      "}]()[{ False\n",
      "]()[{} False\n",
      "()[{}] True\n",
      ")[{}]( False\n",
      "[{}]() True\n",
      "{}]()[ False\n",
      "2\n"
     ]
    }
   ],
   "source": [
    "# Test2\n",
    "s = \"}]()[{\"\n",
    "print(solution(s))"
   ]
  },
  {
   "cell_type": "code",
   "execution_count": 6,
   "metadata": {},
   "outputs": [
    {
     "name": "stdout",
     "output_type": "stream",
     "text": [
      "0\n"
     ]
    }
   ],
   "source": [
    "s = \"[)(]\"\n",
    "print(solution(s))"
   ]
  },
  {
   "cell_type": "code",
   "execution_count": 7,
   "metadata": {},
   "outputs": [
    {
     "name": "stdout",
     "output_type": "stream",
     "text": [
      "0\n"
     ]
    }
   ],
   "source": [
    "s = \"}}}\"\n",
    "print(solution(s))"
   ]
  },
  {
   "cell_type": "code",
   "execution_count": null,
   "metadata": {},
   "outputs": [],
   "source": [
    "# Claude 개선\n",
    "\n",
    "def solution(s):\n",
    "    def is_valid(s):\n",
    "        stack = []\n",
    "        bracket_map = {')': '(', '}': '{', ']': '['}\n",
    "        for char in s:\n",
    "            if char in '({[':\n",
    "                stack.append(char)\n",
    "            elif char in ')}]':\n",
    "                if not stack or stack.pop() != bracket_map[char]:\n",
    "                    return False\n",
    "        return len(stack) == 0\n",
    "\n",
    "    if len(s) % 2 == 1:  # 홀수 길이의 문자열은 항상 올바르지 않음\n",
    "        return 0\n",
    "\n",
    "    answer = 0\n",
    "    for i in range(len(s)):\n",
    "        if is_valid(s[i:] + s[:i]):\n",
    "            answer += 1\n",
    "    return answer\n",
    "\n",
    "'''\n",
    "이 최적화된 버전의 주요 변경 사항과 장점은 다음과 같습니다:\n",
    "\n",
    "괄호 매핑 사용: bracket_map 딕셔너리를 사용하여 닫는 괄호와 여는 괄호를 매핑합니다. 이는 index 메서드를 반복적으로 호출하는 것보다 더 효율적입니다.\n",
    "조기 반환: 문자열의 길이가 홀수인 경우 즉시 0을 반환합니다. 이는 불필요한 검사를 피할 수 있게 해줍니다.\n",
    "함수 분리: is_valid 함수를 별도로 정의하여 코드의 가독성을 높이고 재사용성을 개선했습니다.\n",
    "불필요한 변수 제거: isValid와 같은 중간 변수를 제거하여 코드를 간결하게 만들었습니다.\n",
    "리스트 대신 문자열 사용: open_parenthesis와 close_parenthesis 리스트 대신 문자열을 직접 비교합니다. 이는 메모리 사용을 줄이고 검색 속도를 향상시킵니다.\n",
    "문자열 슬라이싱 최적화: s[i:] + s[:i]를 사용하여 문자열 회전을 더 간단하게 표현했습니다.\n",
    "\n",
    "이러한 최적화를 통해 코드의 실행 속도와 메모리 사용을 개선할 수 있습니다. 특히 큰 입력값에 대해 더 효율적으로 동작할 것입니다.\n",
    "'''"
   ]
  }
 ],
 "metadata": {
  "kernelspec": {
   "display_name": "dl",
   "language": "python",
   "name": "python3"
  },
  "language_info": {
   "codemirror_mode": {
    "name": "ipython",
    "version": 3
   },
   "file_extension": ".py",
   "mimetype": "text/x-python",
   "name": "python",
   "nbconvert_exporter": "python",
   "pygments_lexer": "ipython3",
   "version": "3.9.18"
  }
 },
 "nbformat": 4,
 "nbformat_minor": 2
}
