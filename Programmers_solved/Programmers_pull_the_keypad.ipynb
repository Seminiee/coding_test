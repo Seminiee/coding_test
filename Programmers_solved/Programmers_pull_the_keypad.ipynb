{
 "cells": [
  {
   "cell_type": "markdown",
   "metadata": {},
   "source": [
    "## Programmars\n",
    "---\n",
    "### [카카오 인턴] [키패드 누르기](https://school.programmers.co.kr/learn/courses/30/lessons/67256)"
   ]
  },
  {
   "cell_type": "code",
   "execution_count": null,
   "metadata": {},
   "outputs": [],
   "source": [
    "keypad = [[0,1,2],\n",
    "          [3,4,5],\n",
    "          [6,7,8],\n",
    "          [9,10,11]]"
   ]
  },
  {
   "cell_type": "code",
   "execution_count": 22,
   "metadata": {},
   "outputs": [],
   "source": [
    "def solution(numbers, hand):\n",
    "    position = [9,11] #매 숫자마다 업데이트\n",
    "    left_hand_only = [0,3,6]\n",
    "    right_hand_only = [2,5,8]\n",
    "    answer = ''\n",
    "    cur_num = 0\n",
    "    for num in numbers:\n",
    "        cur_num = num - 1\n",
    "        if num == 0:\n",
    "            cur_num = 10\n",
    "        #print('num: ',num,' cur_num: ',cur_num)\n",
    "        if cur_num in left_hand_only:\n",
    "            position[0] = cur_num\n",
    "            answer += 'L'\n",
    "        elif cur_num in right_hand_only:\n",
    "            position[1] = cur_num\n",
    "            answer += 'R'\n",
    "        else:\n",
    "            num_x = cur_num % 3\n",
    "            num_y = cur_num // 3\n",
    "            left_x = position[0] % 3\n",
    "            left_y = position[0] // 3\n",
    "            right_x = position[1] % 3\n",
    "            right_y = position[1] // 3\n",
    "            dist_left = abs(num_x - left_x) + abs(num_y - left_y)\n",
    "            dist_right = abs(num_x - right_x) + abs(num_y - right_y)\n",
    "            if dist_left > dist_right:\n",
    "                position[1] = cur_num\n",
    "                answer += 'R'\n",
    "            elif dist_left < dist_right:\n",
    "                position[0] = cur_num\n",
    "                answer += 'L'\n",
    "            else:\n",
    "                if hand == 'right':\n",
    "                    position[1] = cur_num\n",
    "                    answer += 'R'\n",
    "                else:\n",
    "                    position[0] = cur_num\n",
    "                    answer += 'L'\n",
    "    \n",
    "    return answer"
   ]
  },
  {
   "cell_type": "code",
   "execution_count": 19,
   "metadata": {},
   "outputs": [],
   "source": [
    "numbers1 = [1, 3, 4, 5, 8, 2, 1, 4, 5, 9, 5]\n",
    "hand1 = \"right\"\n",
    "answer1 = \"LRLLLRLLRRL\"\n",
    "test1 = solution(numbers1, hand1)"
   ]
  },
  {
   "cell_type": "code",
   "execution_count": 20,
   "metadata": {},
   "outputs": [
    {
     "data": {
      "text/plain": [
       "True"
      ]
     },
     "execution_count": 20,
     "metadata": {},
     "output_type": "execute_result"
    }
   ],
   "source": [
    "test1 == answer1"
   ]
  },
  {
   "cell_type": "code",
   "execution_count": 21,
   "metadata": {},
   "outputs": [
    {
     "data": {
      "text/plain": [
       "'LRLLLRLLRRL'"
      ]
     },
     "execution_count": 21,
     "metadata": {},
     "output_type": "execute_result"
    }
   ],
   "source": [
    "test1"
   ]
  },
  {
   "cell_type": "code",
   "execution_count": 25,
   "metadata": {},
   "outputs": [
    {
     "name": "stdout",
     "output_type": "stream",
     "text": [
      "num:  7  cur_num:  6\n",
      "num:  0  cur_num:  10\n",
      "num:  8  cur_num:  7\n",
      "num:  2  cur_num:  1\n",
      "num:  8  cur_num:  7\n",
      "num:  3  cur_num:  2\n",
      "num:  1  cur_num:  0\n",
      "num:  5  cur_num:  4\n",
      "num:  7  cur_num:  6\n",
      "num:  6  cur_num:  5\n",
      "num:  2  cur_num:  1\n"
     ]
    }
   ],
   "source": [
    "numbers2 = [7, 0, 8, 2, 8, 3, 1, 5, 7, 6, 2]\n",
    "hand2 = \"left\"\n",
    "answer2 = \"LRLLRRLLLRR\"\n",
    "test2 = solution(numbers2, hand2)"
   ]
  },
  {
   "cell_type": "code",
   "execution_count": 26,
   "metadata": {},
   "outputs": [
    {
     "data": {
      "text/plain": [
       "True"
      ]
     },
     "execution_count": 26,
     "metadata": {},
     "output_type": "execute_result"
    }
   ],
   "source": [
    "test2 == answer2"
   ]
  },
  {
   "cell_type": "code",
   "execution_count": 18,
   "metadata": {},
   "outputs": [
    {
     "data": {
      "text/plain": [
       "'LRLLLRLLRRL'"
      ]
     },
     "execution_count": 18,
     "metadata": {},
     "output_type": "execute_result"
    }
   ],
   "source": [
    "test2"
   ]
  },
  {
   "cell_type": "code",
   "execution_count": 27,
   "metadata": {},
   "outputs": [
    {
     "name": "stdout",
     "output_type": "stream",
     "text": [
      "num:  1  cur_num:  0\n",
      "num:  2  cur_num:  1\n",
      "num:  3  cur_num:  2\n",
      "num:  4  cur_num:  3\n",
      "num:  5  cur_num:  4\n",
      "num:  6  cur_num:  5\n",
      "num:  7  cur_num:  6\n",
      "num:  8  cur_num:  7\n",
      "num:  9  cur_num:  8\n",
      "num:  0  cur_num:  10\n"
     ]
    }
   ],
   "source": [
    "numbers3 = [1, 2, 3, 4, 5, 6, 7, 8, 9, 0]\n",
    "hand3 = \"right\"\n",
    "answer3 = \"LLRLLRLLRL\"\n",
    "test3 = solution(numbers3, hand3)"
   ]
  },
  {
   "cell_type": "code",
   "execution_count": 28,
   "metadata": {},
   "outputs": [
    {
     "data": {
      "text/plain": [
       "True"
      ]
     },
     "execution_count": 28,
     "metadata": {},
     "output_type": "execute_result"
    }
   ],
   "source": [
    "test3 == answer3"
   ]
  },
  {
   "cell_type": "code",
   "execution_count": 16,
   "metadata": {},
   "outputs": [
    {
     "data": {
      "text/plain": [
       "'LRLLLRLLRRL'"
      ]
     },
     "execution_count": 16,
     "metadata": {},
     "output_type": "execute_result"
    }
   ],
   "source": [
    "test3"
   ]
  }
 ],
 "metadata": {
  "kernelspec": {
   "display_name": "DL",
   "language": "python",
   "name": "python3"
  },
  "language_info": {
   "codemirror_mode": {
    "name": "ipython",
    "version": 3
   },
   "file_extension": ".py",
   "mimetype": "text/x-python",
   "name": "python",
   "nbconvert_exporter": "python",
   "pygments_lexer": "ipython3",
   "version": "3.10.11"
  }
 },
 "nbformat": 4,
 "nbformat_minor": 2
}
