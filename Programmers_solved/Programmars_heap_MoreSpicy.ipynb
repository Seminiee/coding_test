{
 "cells": [
  {
   "cell_type": "markdown",
   "metadata": {},
   "source": [
    "## Programmers\n",
    "***\n",
    "### 힙 - [더 맵게](https://school.programmers.co.kr/learn/courses/30/lessons/42626)"
   ]
  },
  {
   "cell_type": "markdown",
   "metadata": {},
   "source": [
    "#### 문제 설명\n",
    "\n",
    "- 매운 것을 좋아하는 Leo는 모든 음식의 스코빌 지수를 K 이상으로 만들고 싶습니다. \n",
    "- 모든 음식의 스코빌 지수를 K 이상으로 만들기 위해 Leo는 스코빌 지수가 가장 낮은 두 개의 음식을 아래와 같이 특별한 방법으로 섞어 새로운 음식을 만듭니다.\n",
    "> **섞은 음식의 스코빌 지수** = **가장 맵지 않은 음식의 스코빌 지수** + **(두 번째로 맵지 않은 음식의 스코빌 지수 * 2)**\n",
    "- Leo는 모든 음식의 스코빌 지수가 K 이상이 될 때까지 반복하여 섞습니다.\n",
    "- Leo가 가진 음식의 스코빌 지수를 담은 배열 `scoville`과 원하는 스코빌 지수 `K`가 주어질 때, _모든 음식의 스코빌 지수를 K 이상_ 으로 만들기 위해 섞어야 하는 최소 횟수를 `return` 하도록 `solution` 함수를 작성해주세요.\n",
    "\n",
    "#### 제한 사항\n",
    "- `scoville`의 길이는 `2` 이상 `1,000,000` 이하입니다.\n",
    "- `K`는 `0` 이상 `1,000,000,000` 이하입니다.\n",
    "- `scoville`의 원소는 각각 `0` 이상 `1,000,000` 이하입니다.\n",
    "- 모든 음식의 스코빌 지수를 `K` 이상으로 만들 수 없는 경우에는 `-1`을 `return` 합니다."
   ]
  },
  {
   "cell_type": "markdown",
   "metadata": {},
   "source": [
    "```python\n",
    "# heapq 라이브러리 호출 \n",
    "import heapq as hp \n",
    "\n",
    "# 사용 가능한 heapq 라이브러리 모듈 \n",
    "hp.heapify(x) # 리스트 x를 힙으로 반환한다. \n",
    "# 새로운 리스트 반환이 아닌 인자로 넘긴 리스트 직접 변경\n",
    "\n",
    "hp.heappush(heap, item) # item 값을 heap으로 push한다. \n",
    "hp.heappop(heap) # heap에서 가장 작은 값을 pop한다(=빼낸다). \n",
    "\n",
    "hp.heappushpop(heap, item) # heap에 item을 push한 후, heap에서 가장 작은 값을 pop한다. (개별 호출하는 것보다 더 효율적) \n",
    "hp.heapreplace(heap, item) # heap에서 가장 작은 값을 pop한 후, 새로운 item을 push한다. (개별 호출하는 것보다 더 효율적) \n",
    "\n",
    "# 힙에 원소를 추가할때 (-원소의 값,원소의 값)으로 저장을 해준다면 음수의 값으로 최소 힙 \n",
    "# -> 원래 양수의 값에서 최대 힙이 된다는 뜻\n",
    "\n",
    "# 힙에서 최소값을 삭제하지 않고, 얻으려고 할 때 사용 가능한 방법 \n",
    "# 주의! 두번째로 작은 원소를 얻으려면 바로 heap[1]으로 접근하면 안된다. \n",
    "# 힙은 heappop() 함수를 호출하여 원소를 삭제할 때마다 이진 트리의 재배치를 통해 매번 새로운 최소값을 인덱스 0에 위치시키기 때문! \n",
    "# 따라서, 반드시 heappop()을 통해 가장 작은 원소를 삭제 후에 heap[0]를 통해 새로운 최소값에 접근해야 한다. \n",
    "heap[0]\n",
    "\n",
    "# heapq 모듈에 nsmallest()\n",
    "# nsmallest() 함수 -> 주어진 리스트에서 가장 작은 n개의 값을 담은 리스트를 반환하는데, 그 결과 리스트의 마지막 값이 n번째 작은 값이 된다.\n",
    "```"
   ]
  },
  {
   "cell_type": "code",
   "execution_count": 12,
   "metadata": {},
   "outputs": [],
   "source": [
    "import heapq\n",
    "\n",
    "def solution(scoville, K):\n",
    "    s = scoville.copy() # heap으로 만들기 위해 원본 리스트 복사\n",
    "    answer = 0\n",
    "    \n",
    "    heapq.heapify(s)\n",
    "    while(True):\n",
    "        if len(s) == 1:\n",
    "            if s[0] < K:\n",
    "                answer = -1\n",
    "            break\n",
    "        if s[0] >= K:\n",
    "            break\n",
    "        a = heapq.heappop(s)\n",
    "        b = heapq.heappop(s)\n",
    "        heapq.heappush(s,a + 2*b)\n",
    "        answer += 1\n",
    "    return answer"
   ]
  },
  {
   "cell_type": "code",
   "execution_count": 13,
   "metadata": {},
   "outputs": [
    {
     "data": {
      "text/plain": [
       "2"
      ]
     },
     "execution_count": 13,
     "metadata": {},
     "output_type": "execute_result"
    }
   ],
   "source": [
    "test_s = [1,2,3,9,10,12]\n",
    "test_K = 7\n",
    "test = solution(test_s,test_K)\n",
    "test"
   ]
  },
  {
   "cell_type": "code",
   "execution_count": 2,
   "metadata": {},
   "outputs": [],
   "source": [
    "tl = [1,2,3,9,10,12]"
   ]
  },
  {
   "cell_type": "code",
   "execution_count": 4,
   "metadata": {},
   "outputs": [
    {
     "data": {
      "text/plain": [
       "list"
      ]
     },
     "execution_count": 4,
     "metadata": {},
     "output_type": "execute_result"
    }
   ],
   "source": [
    "heapq.heapify(tl)\n",
    "type(tl)"
   ]
  },
  {
   "cell_type": "code",
   "execution_count": 6,
   "metadata": {},
   "outputs": [
    {
     "data": {
      "text/plain": [
       "1"
      ]
     },
     "execution_count": 6,
     "metadata": {},
     "output_type": "execute_result"
    }
   ],
   "source": [
    "tl[0]"
   ]
  },
  {
   "cell_type": "code",
   "execution_count": 7,
   "metadata": {},
   "outputs": [
    {
     "data": {
      "text/plain": [
       "1"
      ]
     },
     "execution_count": 7,
     "metadata": {},
     "output_type": "execute_result"
    }
   ],
   "source": [
    "heapq.heappop(tl)"
   ]
  },
  {
   "cell_type": "code",
   "execution_count": 8,
   "metadata": {},
   "outputs": [
    {
     "data": {
      "text/plain": [
       "[2, 9, 3, 12, 10]"
      ]
     },
     "execution_count": 8,
     "metadata": {},
     "output_type": "execute_result"
    }
   ],
   "source": [
    "tl"
   ]
  },
  {
   "cell_type": "code",
   "execution_count": 9,
   "metadata": {},
   "outputs": [
    {
     "data": {
      "text/plain": [
       "[2, 9, 3, 12, 10, 11]"
      ]
     },
     "execution_count": 9,
     "metadata": {},
     "output_type": "execute_result"
    }
   ],
   "source": [
    "heapq.heappush(tl,11)\n",
    "tl"
   ]
  },
  {
   "cell_type": "code",
   "execution_count": 10,
   "metadata": {},
   "outputs": [],
   "source": [
    "heapq.heapify(tl)"
   ]
  },
  {
   "cell_type": "code",
   "execution_count": 11,
   "metadata": {},
   "outputs": [
    {
     "data": {
      "text/plain": [
       "[2, 9, 3, 12, 10, 11]"
      ]
     },
     "execution_count": 11,
     "metadata": {},
     "output_type": "execute_result"
    }
   ],
   "source": [
    "tl"
   ]
  }
 ],
 "metadata": {
  "kernelspec": {
   "display_name": "dl",
   "language": "python",
   "name": "python3"
  },
  "language_info": {
   "codemirror_mode": {
    "name": "ipython",
    "version": 3
   },
   "file_extension": ".py",
   "mimetype": "text/x-python",
   "name": "python",
   "nbconvert_exporter": "python",
   "pygments_lexer": "ipython3",
   "version": "3.9.18"
  }
 },
 "nbformat": 4,
 "nbformat_minor": 2
}
