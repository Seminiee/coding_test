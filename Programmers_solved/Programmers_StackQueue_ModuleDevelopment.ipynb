{
 "cells": [
  {
   "cell_type": "markdown",
   "metadata": {},
   "source": [
    "## Programmers\n",
    "***\n",
    "### 스택/큐 - [기능개발](https://school.programmers.co.kr/learn/courses/30/lessons/42586)"
   ]
  },
  {
   "cell_type": "markdown",
   "metadata": {},
   "source": []
  },
  {
   "cell_type": "code",
   "execution_count": 27,
   "metadata": {},
   "outputs": [],
   "source": [
    "def solution(progresses, speeds):\n",
    "    answer = []\n",
    "    my_p = progresses.copy()\n",
    "    my_s = speeds.copy()\n",
    "    tasks = len(progresses)\n",
    "\n",
    "    top = 0\n",
    "    days = 1\n",
    "    while(True):\n",
    "        #print('days: ', days)\n",
    "        distribution_count = 0\n",
    "        for i in range(tasks):\n",
    "            my_p[i] += my_s[i]\n",
    "            #print(i,' progresses',my_p[i])\n",
    "        if my_p[top] >= 100:\n",
    "            #print('my_p[top] is completed.',my_p[top])\n",
    "            distribution_count += 1\n",
    "            for j in range(top+1,tasks):\n",
    "                if my_p[j] >= 100:\n",
    "                    #print('+ my_p[',j,'] is completed')\n",
    "                    distribution_count += 1\n",
    "                else:\n",
    "                    break\n",
    "            top = j\n",
    "            #print('top is updated ',top)\n",
    "        if distribution_count:\n",
    "            answer.append(distribution_count)\n",
    "        if top == (tasks-1):\n",
    "            if my_p[top] >= 100:\n",
    "                break\n",
    "            else:\n",
    "                answer.append(1)\n",
    "                break\n",
    "        days+=1\n",
    "    return answer"
   ]
  },
  {
   "cell_type": "code",
   "execution_count": 28,
   "metadata": {},
   "outputs": [
    {
     "data": {
      "text/plain": [
       "[2, 1]"
      ]
     },
     "execution_count": 28,
     "metadata": {},
     "output_type": "execute_result"
    }
   ],
   "source": [
    "p1 = [93, 30, 55]\n",
    "s1 = [1, 30, 5]\n",
    "test = solution(p1,s1)\n",
    "test"
   ]
  },
  {
   "cell_type": "code",
   "execution_count": 29,
   "metadata": {},
   "outputs": [
    {
     "data": {
      "text/plain": [
       "[1, 3, 2]"
      ]
     },
     "execution_count": 29,
     "metadata": {},
     "output_type": "execute_result"
    }
   ],
   "source": [
    "p2 = [95, 90, 99, 99, 80, 99]\n",
    "s2 = [1, 1, 1, 1, 1, 1]\n",
    "test = solution(p2,s2)\n",
    "test"
   ]
  },
  {
   "cell_type": "code",
   "execution_count": 14,
   "metadata": {},
   "outputs": [],
   "source": [
    "def solution(progresses, speeds):\n",
    "    answer = []\n",
    "    stack = list()\n",
    "    tasks = len(progresses)\n",
    "    stack_p = progresses.copy()\n",
    "    stack_s = speeds.copy()\n",
    "\n",
    "    stack_p.reverse()\n",
    "    stack_s.reverse()\n",
    "    #p = p_r.pop()\n",
    "    #s = s_r.pop()\n",
    "    #stack_p.append(p)\n",
    "    #distribution = list()\n",
    "    days = 1\n",
    "\n",
    "    while(True):\n",
    "        if len(stack_p) == 0 or len(stack_s) == 0:\n",
    "            break\n",
    "        for i in range(len(stack_p)):\n",
    "            stack_p[i] += stack_s[i] * days\n",
    "        #top = stack_p[-1]\n",
    "        is_completed = True\n",
    "        distribution = list()\n",
    "        while(is_completed):\n",
    "            if stack_p[-1] < 100:\n",
    "                is_completed = False\n",
    "            else:\n",
    "                p = stack_p.pop()\n",
    "                s = stack_s.pop()\n",
    "                distribution.append(p)\n",
    "            if len(stack_p) == 0 or len(stack_s) == 0:\n",
    "                is_completed = False\n",
    "        if len(distribution):\n",
    "            answer.append(len(distribution))\n",
    "        days += 1\n",
    "    \n",
    "    return answer"
   ]
  },
  {
   "cell_type": "code",
   "execution_count": 15,
   "metadata": {},
   "outputs": [
    {
     "data": {
      "text/plain": [
       "[3]"
      ]
     },
     "execution_count": 15,
     "metadata": {},
     "output_type": "execute_result"
    }
   ],
   "source": [
    "p1 = [93, 30, 55]\n",
    "s1 = [1, 30, 5]\n",
    "test = solution(p1,s1)\n",
    "test"
   ]
  },
  {
   "cell_type": "code",
   "execution_count": 6,
   "metadata": {},
   "outputs": [],
   "source": [
    "def solution(progresses, speeds):\n",
    "    answer = []\n",
    "    stack = list()\n",
    "    tasks = len(progresses)\n",
    "    #p_copy = progresses.copy()\n",
    "    #s_copy = speeds.copy()\n",
    "    p_r = progresses.copy()\n",
    "    s_r = speeds.copy()\n",
    "    p_r.reverse()\n",
    "    s_r.reverse()\n",
    "    p = p_r.pop()\n",
    "    s = s_r.pop()\n",
    "    stack.append(p)\n",
    "    #distribution = list()\n",
    "    days = 1\n",
    "   \n",
    "    while(True):\n",
    "        if len(p_r) ==0 or len(s_r) ==0:\n",
    "            break\n",
    "        if not stack:\n",
    "            p = p_r.pop()\n",
    "            s = s_r.pop()\n",
    "            stack.append(p)\n",
    "        \n",
    "        stack[0] += s*days\n",
    "        for i in range(len(p_r)-1,-1,-1):\n",
    "            p_r[i] += s_r[i]*days\n",
    "        if stack[0] < 100: #스택에 있는 기능 개발완료X -> 이후의 것들까지 배포 불가\n",
    "            days+=1\n",
    "            continue\n",
    "        else: #스택에 있는 기능이 개발완료 -> 배포목록에 추가\n",
    "            distribution = list()\n",
    "            t = stack.pop()\n",
    "            distribution.append(t)\n",
    "            while(True):\n",
    "                \n",
    "\n"
   ]
  },
  {
   "cell_type": "code",
   "execution_count": 13,
   "metadata": {},
   "outputs": [
    {
     "data": {
      "text/plain": [
       "[3]"
      ]
     },
     "execution_count": 13,
     "metadata": {},
     "output_type": "execute_result"
    }
   ],
   "source": [
    "p1 = [93, 30, 55]\n",
    "s1 = [1, 30, 5]\n",
    "test = solution(p1,s1)\n",
    "test"
   ]
  }
 ],
 "metadata": {
  "kernelspec": {
   "display_name": "dl",
   "language": "python",
   "name": "python3"
  },
  "language_info": {
   "codemirror_mode": {
    "name": "ipython",
    "version": 3
   },
   "file_extension": ".py",
   "mimetype": "text/x-python",
   "name": "python",
   "nbconvert_exporter": "python",
   "pygments_lexer": "ipython3",
   "version": "3.9.18"
  }
 },
 "nbformat": 4,
 "nbformat_minor": 2
}
